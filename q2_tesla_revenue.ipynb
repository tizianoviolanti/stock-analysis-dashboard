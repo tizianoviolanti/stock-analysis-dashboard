{
  "nbformat": 4,
  "nbformat_minor": 0,
  "metadata": {
    "colab": {
      "provenance": [],
      "authorship_tag": "ABX9TyOh+Ekoym8xYpsbCmAzhfOH",
      "include_colab_link": true
    },
    "kernelspec": {
      "name": "python3",
      "display_name": "Python 3"
    },
    "language_info": {
      "name": "python"
    }
  },
  "cells": [
    {
      "cell_type": "markdown",
      "metadata": {
        "id": "view-in-github",
        "colab_type": "text"
      },
      "source": [
        "<a href=\"https://colab.research.google.com/github/cristinaverse/stock-analysis-dashboard/blob/main/notebooks/question2_tesla_revenue.ipynb\" target=\"_parent\"><img src=\"https://colab.research.google.com/assets/colab-badge.svg\" alt=\"Open In Colab\"/></a>"
      ]
    },
    {
      "cell_type": "code",
      "execution_count": 1,
      "metadata": {
        "colab": {
          "base_uri": "https://localhost:8080/"
        },
        "id": "qejbWuYLtHJS",
        "outputId": "f6651731-f9c0-4fb4-b192-621256edb952"
      },
      "outputs": [
        {
          "output_type": "stream",
          "name": "stdout",
          "text": [
            "Tesla Revenue Data - Last 5 rows:\n",
            "                       Date        Revenue\n",
            "73             Fisker (FSR)  United States\n",
            "74      Lion Electric (LEV)         Canada\n",
            "75             Volta (VLTA)  United States\n",
            "76       Bird Global (BRDS)  United States\n",
            "77  Lightning EMotors (ZEV)  United States\n"
          ]
        }
      ],
      "source": [
        "import yfinance as yf\n",
        "import pandas as pd\n",
        "import requests\n",
        "from bs4 import BeautifulSoup\n",
        "import plotly.graph_objects as go\n",
        "from plotly.subplots import make_subplots\n",
        "\n",
        "def extract_tesla_revenue():\n",
        "    \"\"\"Extract Tesla revenue data via web scraping\"\"\"\n",
        "    url = \"https://cf-courses-data.s3.us.cloud-object-storage.appdomain.cloud/IBMDeveloperSkillsNetwork-PY0220EN-SkillsNetwork/labs/project/revenue.htm\"\n",
        "\n",
        "    try:\n",
        "        html_data = requests.get(url).text\n",
        "        soup = BeautifulSoup(html_data, 'html.parser')\n",
        "\n",
        "        # Find the Tesla table\n",
        "        tesla_revenue = pd.DataFrame(columns=[\"Date\", \"Revenue\"])\n",
        "\n",
        "        # Parse all tables and find Tesla revenue rows\n",
        "        tables = soup.find_all('table')\n",
        "        for table in tables:\n",
        "            rows = table.find_all('tr')\n",
        "            for row in rows[1:]:  # Skip header\n",
        "                cols = row.find_all('td')\n",
        "                if len(cols) >= 2:\n",
        "                    date = cols[0].text.strip()\n",
        "                    revenue = cols[1].text.strip()\n",
        "                    tesla_revenue = pd.concat([tesla_revenue, pd.DataFrame({\n",
        "                        \"Date\": [date],\n",
        "                        \"Revenue\": [revenue]\n",
        "                    })], ignore_index=True)\n",
        "\n",
        "        # Clean revenue data\n",
        "        tesla_revenue[\"Revenue\"] = tesla_revenue[\"Revenue\"].str.replace('$', '').str.replace(',', '')\n",
        "        tesla_revenue.dropna(inplace=True)\n",
        "        tesla_revenue = tesla_revenue[tesla_revenue[\"Revenue\"] != \"\"]\n",
        "\n",
        "        print(\"Tesla Revenue Data - Last 5 rows:\")\n",
        "        print(tesla_revenue.tail())\n",
        "        return tesla_revenue\n",
        "\n",
        "    except Exception as e:\n",
        "        print(f\"Error during web scraping: {e}\")\n",
        "        # Fallback example data in case of scraping failure\n",
        "        tesla_revenue = pd.DataFrame({\n",
        "            \"Date\": [\"2023-12-31\", \"2023-09-30\", \"2023-06-30\", \"2023-03-31\", \"2022-12-31\"],\n",
        "            \"Revenue\": [\"96773\", \"96773\", \"81462\", \"81462\", \"81462\"]\n",
        "        })\n",
        "        return tesla_revenue\n",
        "\n",
        "# Run the function\n",
        "tesla_revenue = extract_tesla_revenue()\n"
      ]
    }
  ]
}